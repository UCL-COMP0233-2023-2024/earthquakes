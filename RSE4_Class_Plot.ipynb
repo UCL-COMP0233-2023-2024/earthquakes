{
  "nbformat": 4,
  "nbformat_minor": 0,
  "metadata": {
    "colab": {
      "provenance": [],
      "authorship_tag": "ABX9TyNibFHm07NDx5dBuK7kMtsM"
    },
    "kernelspec": {
      "name": "python3",
      "display_name": "Python 3"
    },
    "language_info": {
      "name": "python"
    }
  },
  "cells": [
    {
      "cell_type": "code",
      "execution_count": null,
      "metadata": {
        "id": "bHob4zu5BHkO"
      },
      "outputs": [],
      "source": [
        "# Contuining on from the earthquake exercise"
      ]
    },
    {
      "cell_type": "code",
      "source": [
        "from datetime import date\n",
        "\n",
        "import matplotlib.pyplot as plt\n",
        "\n"
      ],
      "metadata": {
        "id": "-SVngtRXG0q9"
      },
      "execution_count": null,
      "outputs": []
    },
    {
      "cell_type": "code",
      "source": [
        "def get_data():\n",
        "    \"\"\"Retrieve the data we will be working with.\"\"\"\n",
        "    response = requests.get(\n",
        "        \"http://earthquake.usgs.gov/fdsnws/event/1/query.geojson\",\n",
        "        params={\n",
        "            'starttime': \"2000-01-01\",\n",
        "            \"maxlatitude\": \"58.723\",\n",
        "            \"minlatitude\": \"50.008\",\n",
        "            \"maxlongitude\": \"1.67\",\n",
        "            \"minlongitude\": \"-9.756\",\n",
        "            \"minmagnitude\": \"1\",\n",
        "            \"endtime\": \"2018-10-11\",\n",
        "            \"orderby\": \"time-asc\"}\n",
        "    )\n",
        "\n",
        "    text = response.text\n",
        "    return json.loads(text)"
      ],
      "metadata": {
        "id": "s0dyIBm7G_pg"
      },
      "execution_count": 1,
      "outputs": []
    },
    {
      "cell_type": "code",
      "source": [
        "def get_year(earthquake):\n",
        "    \"\"\"Extract the year in which an earthquake happened.\"\"\"\n",
        "    timestamp = earthquake['properties']['time']\n",
        "\n",
        "    year = date.fromtimestamp(timestamp/1000).year # converting from milliseconds into a year\n",
        "    # divides by 1000 because date.fromtimestamp function usually works in seconds\n",
        "    return year"
      ],
      "metadata": {
        "id": "nYBmW_O8HCEa"
      },
      "execution_count": 2,
      "outputs": []
    },
    {
      "cell_type": "code",
      "source": [
        "def get_magnitude(earthquake):\n",
        "    \"\"\"Retrive the magnitude of an earthquake item.\"\"\"\n",
        "    return earthquake[\"properties\"][\"mag\"]"
      ],
      "metadata": {
        "id": "MeaksSiwHDqF"
      },
      "execution_count": null,
      "outputs": []
    },
    {
      "cell_type": "code",
      "source": [
        "def get_magnitudes_per_year(earthquakes):\n",
        "    \"\"\"Retrieve the magnitudes of all the earthquakes in a given year.\n",
        "\n",
        "    Returns a dictionary with years as keys, and lists of magnitudes as values.\n",
        "    \"\"\"\n",
        "    ."
      ],
      "metadata": {
        "id": "idvdD1tBHERe"
      },
      "execution_count": null,
      "outputs": []
    },
    {
      "cell_type": "code",
      "source": [
        "def plot_average_magnitude_per_year(earthquakes):\n",
        "    ..."
      ],
      "metadata": {
        "id": "1bnrYW0lHNTB"
      },
      "execution_count": null,
      "outputs": []
    },
    {
      "cell_type": "code",
      "source": [
        "def plot_number_per_year(earthquakes):\n",
        "    ..."
      ],
      "metadata": {
        "id": "1t7FshYXHQMf"
      },
      "execution_count": null,
      "outputs": []
    },
    {
      "cell_type": "code",
      "source": [
        "# Get the data we will work with\n",
        "quakes = get_data()['features']"
      ],
      "metadata": {
        "id": "TsLjVEFQHV5U"
      },
      "execution_count": null,
      "outputs": []
    },
    {
      "cell_type": "code",
      "source": [
        "# Plot the results - this is not perfect since the x axis is shown as real\n",
        "# numbers rather than integers, which is what we would prefer!\n",
        "plot_number_per_year(quakes)\n",
        "plt.clf()  # This clears the figure, so that we don't overlay the two plots\n",
        "plot_average_magnitude_per_year(quakes)"
      ],
      "metadata": {
        "id": "TXBRJp5ZHWlU"
      },
      "execution_count": null,
      "outputs": []
    }
  ]
}