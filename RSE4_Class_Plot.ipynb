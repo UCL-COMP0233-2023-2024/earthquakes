# Contuining on from the earthquake exercise

from datetime import date

import matplotlib.pyplot as plt

import requests


def get_data():
    """Retrieve the data we will be working with."""
    response = requests.get(
        "http://earthquake.usgs.gov/fdsnws/event/1/query.geojson",
        params={
            'starttime': "2000-01-01",
            "maxlatitude": "58.723",
            "minlatitude": "50.008",
            "maxlongitude": "1.67",
            "minlongitude": "-9.756",
            "minmagnitude": "1",
            "endtime": "2018-10-11",
            "orderby": "time-asc"}
    )

    text = response.text
    return json.loads(text)

def get_year(earthquake):
    """Extract the year in which an earthquake happened."""
    timestamp = earthquake['properties']['time']

    year = date.fromtimestamp(timestamp/1000).year # converting from milliseconds into a year
    # divides by 1000 because date.fromtimestamp function usually works in seconds
    return year

# EQ_data = requests.get('https://earthquake.usgs.gov/fdsnws/event/1/query.geojson?starttime=2000-01-01&maxlatitude=58.723&minlatitude=50.008&maxlongitude=1.67&minlongitude=-9.756&minmagnitude=1&endtime=2018-10-11&orderby=time-asc').text


def get_magnitude(earthquake):
    """Retrive the magnitude of an earthquake item."""
    return earthquake["properties"]["mag"]

def get_magnitudes_per_year(earthquakes):
    """Retrieve the magnitudes of all the earthquakes in a given year.

    Returns a dictionary with years as keys, and lists of magnitudes as values.
    """
    magnitudes_per_year = {}  # initialise empty dict

    # iterate through each earthquake
    for earthquake in earthquakes:
        year = get_year(earthquake)
        mag = get_magnitude(earthquake)

        # if year is already a key in dictionary
        if year in magnitudes_per_year:
            magnitudes_per_year[year].append(magnitude) # append the magnitude to the existing list
        else:
            # otherwise, create new key with a list of mags
            magnitudes_per_year[year] = [magnitude]

    return magnitudes_per_year

def plot_average_magnitude_per_year(earthquakes):
    ...

def plot_number_per_year(earthquakes):
    ...

# Get the data we will work with
quakes = get_data()['features']

# Plot the results - this is not perfect since the x axis is shown as real
# numbers rather than integers, which is what we would prefer!
plot_number_per_year(quakes)
plt.clf()  # This clears the figure, so that we don't overlay the two plots
plot_average_magnitude_per_year(quakes)
