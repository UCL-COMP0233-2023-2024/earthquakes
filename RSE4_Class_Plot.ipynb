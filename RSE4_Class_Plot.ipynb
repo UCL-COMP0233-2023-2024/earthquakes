import json
from datetime import date
import matplotlib.pyplot as plt
import requests

def get_data():
    """Retrieve the data we will be working with."""
    response = requests.get(
        "http://earthquake.usgs.gov/fdsnws/event/1/query.geojson",
        params={
            'starttime': "2000-01-01",
            "maxlatitude": "58.723",
            "minlatitude": "50.008",
            "maxlongitude": "1.67",
            "minlongitude": "-9.756",
            "minmagnitude": "1",
            "endtime": "2018-10-11",
            "orderby": "time-asc"}
    )

    return response.json()

def get_year(earthquake):
    """Extract the year from an earthquake's timestamp."""
    timestamp = earthquake['properties']['time']
    return date.fromtimestamp(timestamp/1000).year

def get_magnitude(earthquake):
    """Retrieve the magnitude of an earthquake."""
    return earthquake["properties"]["mag"]

def get_magnitudes_per_year(earthquakes):
    """Group magnitudes of earthquakes by year."""
    magnitudes_per_year = {}
    for earthquake in earthquakes:
        year = get_year(earthquake)
        mag = get_magnitude(earthquake)

        if year in magnitudes_per_year:
            magnitudes_per_year[year].append(mag)
        else:
            magnitudes_per_year[year] = [mag]
    return magnitudes_per_year

def plot_number_per_year(earthquakes):
    """Plot the number of earthquakes per year."""
    yearly_counts = {}
    for quake in earthquakes:
        year = get_year(quake)
        yearly_counts[year] = yearly_counts.get(year, 0) + 1

    plt.bar(yearly_counts.keys(), yearly_counts.values())
    plt.xlabel('Year')
    plt.ylabel('Number of Earthquakes')
    plt.title('Number of Earthquakes Per Year')
    plt.xticks(list(yearly_counts.keys()), rotation=45)  # To ensure x-axis labels are integer years
    plt.tight_layout()
    plt.show()

def plot_average_magnitude_per_year(earthquakes):
    """Plot the average magnitude of earthquakes per year."""
    yearly_magnitudes = get_magnitudes_per_year(earthquakes)
    yearly_avg_magnitude = {year: sum(mags)/len(mags) for year, mags in yearly_magnitudes.items()}

    plt.bar(yearly_avg_magnitude.keys(), yearly_avg_magnitude.values())
    plt.xlabel('Year')
    plt.ylabel('Average Magnitude')
    plt.title('Average Magnitude of Earthquakes Per Year')
    plt.xticks(list(yearly_avg_magnitude.keys()), rotation=45)  # To ensure x-axis labels are integer years
    plt.tight_layout()
    plt.show()

# Get the data and plot the results
quakes = get_data()['features']
plot_number_per_year(quakes)
plot_average_magnitude_per_year(quakes)
